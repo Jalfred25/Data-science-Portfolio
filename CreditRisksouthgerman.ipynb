{
  "nbformat": 4,
  "nbformat_minor": 0,
  "metadata": {
    "colab": {
      "provenance": [],
      "collapsed_sections": [
        "AUxxkjE6shkH",
        "a08Di3GjkL1Y",
        "LckYCS8SlnFo",
        "qQx2lbzTkEsQ",
        "ocmGcSC2j_2x",
        "zb5bE4WJj8Rw",
        "urAFNUyMjodn",
        "B9i2CrLJs-1m",
        "UJokj9Diyeu0",
        "hZxyRbHL0gNF",
        "DyzIjcVAF6Y7",
        "CGRvZ5QmBU5P",
        "4JkGo57zMXqn",
        "TPOqRS7pNCNH",
        "HowUdsf7MqIJ",
        "hDV5EpEIRsy4",
        "PORgZ7b_WTq-",
        "slDkvQ37Wtst",
        "tTVcDuaUXG5N",
        "AeTAcfFKX3Sm"
      ]
    },
    "kernelspec": {
      "name": "python3",
      "display_name": "Python 3"
    },
    "language_info": {
      "name": "python"
    }
  },
  "cells": [
    {
      "cell_type": "markdown",
      "source": [
        "## **CREDIT RISK ANALYSIS**\n",
        "\n",
        "JAVIER ALFREDO BRAVO BERNAL\n",
        "\n",
        "TECNOLOGICO DE MONTERREY\n",
        "\n"
      ],
      "metadata": {
        "id": "YiwEw8XsZG2W"
      }
    },
    {
      "cell_type": "markdown",
      "source": [
        "# **Parte I: Partición, análisis y pre-procesamiento de los datos.**"
      ],
      "metadata": {
        "id": "AUxxkjE6shkH"
      }
    },
    {
      "cell_type": "code",
      "execution_count": 1,
      "metadata": {
        "id": "6VGEpE4SblfD"
      },
      "outputs": [],
      "source": [
        "# Aquí deberás incluir todas las librerías que requieras durante esta actividad:\n",
        "import numpy as np\n",
        "import pandas as pd\n",
        "import matplotlib.pyplot as plt\n",
        "import seaborn as sns\n",
        "import os\n",
        "\n",
        "from sklearn.pipeline import Pipeline\n",
        "from sklearn.model_selection import KFold\n",
        "from sklearn.compose import ColumnTransformer\n",
        "from sklearn.preprocessing import power_transform\n",
        "from sklearn.preprocessing import FunctionTransformer\n",
        "\n",
        "from sklearn.impute import SimpleImputer\n",
        "from sklearn.preprocessing import MinMaxScaler\n",
        "from sklearn.linear_model import LinearRegression\n",
        "from sklearn.model_selection import train_test_split\n",
        "from scipy.stats import boxcox\n",
        "from sklearn.preprocessing import PowerTransformer\n",
        "from sklearn.preprocessing import LabelEncoder\n",
        "from sklearn.preprocessing import OneHotEncoder\n",
        "from sklearn.preprocessing import StandardScaler\n",
        "\n",
        "\n",
        "\n"
      ]
    },
    {
      "cell_type": "code",
      "source": [
        "from google.colab import drive\n",
        "drive.mount('/content/drive')"
      ],
      "metadata": {
        "colab": {
          "base_uri": "https://localhost:8080/",
          "height": 350
        },
        "id": "j2e_49Dx4RmB",
        "outputId": "4c4ccea3-ab91-435f-e443-8f57b6099447"
      },
      "execution_count": 2,
      "outputs": [
        {
          "output_type": "error",
          "ename": "MessageError",
          "evalue": "Error: credential propagation was unsuccessful",
          "traceback": [
            "\u001b[0;31m---------------------------------------------------------------------------\u001b[0m",
            "\u001b[0;31mMessageError\u001b[0m                              Traceback (most recent call last)",
            "\u001b[0;32m<ipython-input-2-d5df0069828e>\u001b[0m in \u001b[0;36m<cell line: 2>\u001b[0;34m()\u001b[0m\n\u001b[1;32m      1\u001b[0m \u001b[0;32mfrom\u001b[0m \u001b[0mgoogle\u001b[0m\u001b[0;34m.\u001b[0m\u001b[0mcolab\u001b[0m \u001b[0;32mimport\u001b[0m \u001b[0mdrive\u001b[0m\u001b[0;34m\u001b[0m\u001b[0;34m\u001b[0m\u001b[0m\n\u001b[0;32m----> 2\u001b[0;31m \u001b[0mdrive\u001b[0m\u001b[0;34m.\u001b[0m\u001b[0mmount\u001b[0m\u001b[0;34m(\u001b[0m\u001b[0;34m'/content/drive'\u001b[0m\u001b[0;34m)\u001b[0m\u001b[0;34m\u001b[0m\u001b[0;34m\u001b[0m\u001b[0m\n\u001b[0m",
            "\u001b[0;32m/usr/local/lib/python3.10/dist-packages/google/colab/drive.py\u001b[0m in \u001b[0;36mmount\u001b[0;34m(mountpoint, force_remount, timeout_ms, readonly)\u001b[0m\n\u001b[1;32m     98\u001b[0m \u001b[0;32mdef\u001b[0m \u001b[0mmount\u001b[0m\u001b[0;34m(\u001b[0m\u001b[0mmountpoint\u001b[0m\u001b[0;34m,\u001b[0m \u001b[0mforce_remount\u001b[0m\u001b[0;34m=\u001b[0m\u001b[0;32mFalse\u001b[0m\u001b[0;34m,\u001b[0m \u001b[0mtimeout_ms\u001b[0m\u001b[0;34m=\u001b[0m\u001b[0;36m120000\u001b[0m\u001b[0;34m,\u001b[0m \u001b[0mreadonly\u001b[0m\u001b[0;34m=\u001b[0m\u001b[0;32mFalse\u001b[0m\u001b[0;34m)\u001b[0m\u001b[0;34m:\u001b[0m\u001b[0;34m\u001b[0m\u001b[0;34m\u001b[0m\u001b[0m\n\u001b[1;32m     99\u001b[0m   \u001b[0;34m\"\"\"Mount your Google Drive at the specified mountpoint path.\"\"\"\u001b[0m\u001b[0;34m\u001b[0m\u001b[0;34m\u001b[0m\u001b[0m\n\u001b[0;32m--> 100\u001b[0;31m   return _mount(\n\u001b[0m\u001b[1;32m    101\u001b[0m       \u001b[0mmountpoint\u001b[0m\u001b[0;34m,\u001b[0m\u001b[0;34m\u001b[0m\u001b[0;34m\u001b[0m\u001b[0m\n\u001b[1;32m    102\u001b[0m       \u001b[0mforce_remount\u001b[0m\u001b[0;34m=\u001b[0m\u001b[0mforce_remount\u001b[0m\u001b[0;34m,\u001b[0m\u001b[0;34m\u001b[0m\u001b[0;34m\u001b[0m\u001b[0m\n",
            "\u001b[0;32m/usr/local/lib/python3.10/dist-packages/google/colab/drive.py\u001b[0m in \u001b[0;36m_mount\u001b[0;34m(mountpoint, force_remount, timeout_ms, ephemeral, readonly)\u001b[0m\n\u001b[1;32m    135\u001b[0m   )\n\u001b[1;32m    136\u001b[0m   \u001b[0;32mif\u001b[0m \u001b[0mephemeral\u001b[0m\u001b[0;34m:\u001b[0m\u001b[0;34m\u001b[0m\u001b[0;34m\u001b[0m\u001b[0m\n\u001b[0;32m--> 137\u001b[0;31m     _message.blocking_request(\n\u001b[0m\u001b[1;32m    138\u001b[0m         \u001b[0;34m'request_auth'\u001b[0m\u001b[0;34m,\u001b[0m\u001b[0;34m\u001b[0m\u001b[0;34m\u001b[0m\u001b[0m\n\u001b[1;32m    139\u001b[0m         \u001b[0mrequest\u001b[0m\u001b[0;34m=\u001b[0m\u001b[0;34m{\u001b[0m\u001b[0;34m'authType'\u001b[0m\u001b[0;34m:\u001b[0m \u001b[0;34m'dfs_ephemeral'\u001b[0m\u001b[0;34m}\u001b[0m\u001b[0;34m,\u001b[0m\u001b[0;34m\u001b[0m\u001b[0;34m\u001b[0m\u001b[0m\n",
            "\u001b[0;32m/usr/local/lib/python3.10/dist-packages/google/colab/_message.py\u001b[0m in \u001b[0;36mblocking_request\u001b[0;34m(request_type, request, timeout_sec, parent)\u001b[0m\n\u001b[1;32m    174\u001b[0m       \u001b[0mrequest_type\u001b[0m\u001b[0;34m,\u001b[0m \u001b[0mrequest\u001b[0m\u001b[0;34m,\u001b[0m \u001b[0mparent\u001b[0m\u001b[0;34m=\u001b[0m\u001b[0mparent\u001b[0m\u001b[0;34m,\u001b[0m \u001b[0mexpect_reply\u001b[0m\u001b[0;34m=\u001b[0m\u001b[0;32mTrue\u001b[0m\u001b[0;34m\u001b[0m\u001b[0;34m\u001b[0m\u001b[0m\n\u001b[1;32m    175\u001b[0m   )\n\u001b[0;32m--> 176\u001b[0;31m   \u001b[0;32mreturn\u001b[0m \u001b[0mread_reply_from_input\u001b[0m\u001b[0;34m(\u001b[0m\u001b[0mrequest_id\u001b[0m\u001b[0;34m,\u001b[0m \u001b[0mtimeout_sec\u001b[0m\u001b[0;34m)\u001b[0m\u001b[0;34m\u001b[0m\u001b[0;34m\u001b[0m\u001b[0m\n\u001b[0m",
            "\u001b[0;32m/usr/local/lib/python3.10/dist-packages/google/colab/_message.py\u001b[0m in \u001b[0;36mread_reply_from_input\u001b[0;34m(message_id, timeout_sec)\u001b[0m\n\u001b[1;32m    101\u001b[0m     ):\n\u001b[1;32m    102\u001b[0m       \u001b[0;32mif\u001b[0m \u001b[0;34m'error'\u001b[0m \u001b[0;32min\u001b[0m \u001b[0mreply\u001b[0m\u001b[0;34m:\u001b[0m\u001b[0;34m\u001b[0m\u001b[0;34m\u001b[0m\u001b[0m\n\u001b[0;32m--> 103\u001b[0;31m         \u001b[0;32mraise\u001b[0m \u001b[0mMessageError\u001b[0m\u001b[0;34m(\u001b[0m\u001b[0mreply\u001b[0m\u001b[0;34m[\u001b[0m\u001b[0;34m'error'\u001b[0m\u001b[0;34m]\u001b[0m\u001b[0;34m)\u001b[0m\u001b[0;34m\u001b[0m\u001b[0;34m\u001b[0m\u001b[0m\n\u001b[0m\u001b[1;32m    104\u001b[0m       \u001b[0;32mreturn\u001b[0m \u001b[0mreply\u001b[0m\u001b[0;34m.\u001b[0m\u001b[0mget\u001b[0m\u001b[0;34m(\u001b[0m\u001b[0;34m'data'\u001b[0m\u001b[0;34m,\u001b[0m \u001b[0;32mNone\u001b[0m\u001b[0;34m)\u001b[0m\u001b[0;34m\u001b[0m\u001b[0;34m\u001b[0m\u001b[0m\n\u001b[1;32m    105\u001b[0m \u001b[0;34m\u001b[0m\u001b[0m\n",
            "\u001b[0;31mMessageError\u001b[0m: Error: credential propagation was unsuccessful"
          ]
        }
      ]
    },
    {
      "cell_type": "code",
      "source": [
        "# Cargamos los datos:\n",
        "\n",
        "DIR =\"/content/drive/MyDrive/Colab Notebooks/MNA/Inteligencia Artificial y aprendizaje automatico/Actividad 4 y 5 \"\n",
        "os.chdir(DIR)\n",
        "df = pd.read_csv(\"SouthGermanCredit.asc\",sep=' ')\n",
        "print(df.shape)\n",
        "df.head(3)"
      ],
      "metadata": {
        "id": "RriCpzMBb2mr"
      },
      "execution_count": null,
      "outputs": []
    },
    {
      "cell_type": "code",
      "source": [
        "# Renombra los nombres de las columnas del alemán al inglés y desplegamos de\n",
        "# nuevo el DataFrame para ver el resultado obtenido:\n",
        "\n",
        "# ************* Inlcuye aquí tu código:*****************************\n",
        "translated_columns = ['status','duration','credit_history','purpose','amount','savings','employment_duration','installment_rate','personal_status_sex','other_debtors','present_residence','property','age','other_installment_plans','housing','number_credits','job','people_liable','telephone','foreign_worker','credit_risk']\n",
        "df.columns = translated_columns\n",
        "#translated_columns\n",
        "\n",
        "  # NOTA: Tanto aquí como en lo sucesivo, \"None\" puede indicar una o varias líneas de código.\n",
        "\n",
        "# *********** Aquí termina la sección de agregar código *************\n",
        "\n",
        "df.head().T"
      ],
      "metadata": {
        "id": "ppyf8TTgb9zq"
      },
      "execution_count": null,
      "outputs": []
    },
    {
      "cell_type": "code",
      "source": [
        "# Los datos originales tienen en la variable de salida \"credit_risk\" a la clase negativa (buen cliente) con el valor de 1\n",
        "# y a la clase de interés positiva (mal cliente) con el valor de 0. Realiza a continuación una transformación para que la\n",
        "# clase negativa (buen cliente) quede ahora con el valor de 0 y la clase positiva (mal cliente) quede con el valor de 1.\n",
        "\n",
        "\n",
        "mapping = {1: 0, 0: 1}\n",
        "df['credit_risk'] = df['credit_risk'].replace(mapping)\n",
        "\n",
        "\n",
        "print(df['credit_risk'].value_counts())"
      ],
      "metadata": {
        "id": "Tlg8jYbnlqNA"
      },
      "execution_count": null,
      "outputs": []
    },
    {
      "cell_type": "code",
      "source": [
        "# Realiza una partición de 70-15-15 en entrenamiento, validación y prueba.\n",
        "# Los nombres de los conjuntos deberán ser como se indican en los print de abajo:\n",
        "\n",
        "\n",
        "\n",
        "X=df.drop(columns=['credit_risk'])\n",
        "y=df['credit_risk']\n",
        "Xtrain_temp, Xtrain, ytrain_temp, ytrain = train_test_split(X, y, test_size=0.7, random_state=42)\n",
        "Xtest, Xval, ytest, yval = train_test_split(Xtrain_temp, ytrain_temp, test_size=0.5, random_state=42)\n",
        "\n",
        "\n",
        "\n",
        "# Mostremos las dimensiones de la partición generada:\n",
        "print(Xtrain.shape, ytrain.shape)\n",
        "print(Xval.shape, yval.shape)\n",
        "print(Xtest.shape, ytest.shape)"
      ],
      "metadata": {
        "id": "TP5-zdWVczhy"
      },
      "execution_count": null,
      "outputs": []
    },
    {
      "cell_type": "code",
      "source": [
        "for col in df : print(df[col].value_counts().T, \"\\n\\n\")"
      ],
      "metadata": {
        "id": "ZqRg60pJ3adw"
      },
      "execution_count": null,
      "outputs": []
    },
    {
      "cell_type": "markdown",
      "source": [
        "### **Describe a continuación la información de cada variable: su descripción, el tipo de variable y para el caso de las categóricas, el total de niveles que tiene.**\n",
        "\n",
        "\n",
        "### **Variables Categóricas:**\n",
        "\n",
        "1. status\n",
        "                                               \n",
        " 1 : no checking account                       \n",
        " 2 : ... < 0 DM                                \n",
        " 3 : 0<= ... < 200 DM                          \n",
        " 4 : ... >= 200 DM / salary for at least 1 year\n",
        "\n",
        "el status del deudor en su cuenta de cheques\n",
        "2.  credit_history`\n",
        "                                                \n",
        " 0 : delay in paying off in the past            \n",
        " 1 : critical account/other credits elsewhere   \n",
        " 2 : no credits taken/all credits paid back duly\n",
        " 3 : existing credits paid back duly till now   \n",
        " 4 : all credits at this bank paid back duly    \n",
        "\n",
        "historial de credito del deudor\n",
        "\n",
        "3.  purpose`\n",
        "                        \n",
        " 0 : others             \n",
        " 1 : car (new)          \n",
        " 2 : car (used)         \n",
        " 3 : furniture/equipment\n",
        " 4 : radio/television   \n",
        " 5 : domestic appliances\n",
        " 6 : repairs            \n",
        " 7 : education          \n",
        " 8 : vacation           \n",
        " 9 : retraining         \n",
        " 10 : business\n",
        "\n",
        "proposito del credito\n",
        "\n",
        "4.   savings`\n",
        "                               \n",
        " 1 : unknown/no savings account\n",
        " 2 : ... <  100 DM             \n",
        " 3 : 100 <= ... <  500 DM      \n",
        " 4 : 500 <= ... < 1000 DM      \n",
        " 5 : ... >= 1000 DM  \n",
        "\n",
        " cantidad de dinero en su cuenta de ahorros          \n",
        "\n",
        "5.   employment_duration`\n",
        "                     \n",
        " 1 : unemployed      \n",
        " 2 : < 1 yr          \n",
        " 3 : 1 <= ... < 4 yrs\n",
        " 4 : 4 <= ... < 7 yrs\n",
        " 5 : >= 7 yrs\n",
        "\n",
        " duracion del empleo     \n",
        "\n",
        "6.  installment_rate`\n",
        "                   \n",
        " 1 : >= 35         \n",
        " 2 : 25 <= ... < 35\n",
        " 3 : 20 <= ... < 25\n",
        " 4 : < 20\n",
        "\n",
        " porcentaje proporcional de las mensualidades del credito con su ingreso mensual.          \n",
        "\n",
        "7.   personal_status_sex`\n",
        "                                         \n",
        " 1 : male : divorced/separated           \n",
        " 2 : female : non-single or male : single\n",
        " 3 : male : married/widowed              \n",
        " 4 : female : single\n",
        "\n",
        " genero y estatus civil      \n",
        "\n",
        "8.  other_debtors`\n",
        "                 \n",
        " 1 : none        \n",
        " 2 : co-applicant\n",
        " 3 : guarantor   \n",
        "\n",
        "codeudor o garante para el credito\n",
        "\n",
        "9.   present_residence`\n",
        "                     \n",
        " 1 : < 1 yr          \n",
        " 2 : 1 <= ... < 4 yrs\n",
        " 3 : 4 <= ... < 7 yrs\n",
        " 4 : >= 7 yrs\n",
        "\n",
        " años que esta viviendo en la misma residencia.        \n",
        "\n",
        "10.  property`\n",
        "                                              \n",
        " 1 : unknown / no property                    \n",
        " 2 : car or other                             \n",
        " 3 : building soc. savings agr./life insurance\n",
        " 4 : real estate                              \n",
        "\n",
        "bienes del deudor.\n",
        "\n",
        "11.   other_installment_plans`\n",
        "           \n",
        " 1 : bank  \n",
        " 2 : stores\n",
        " 3 : none\n",
        "\n",
        " otros pagos mensuales que tiene el deudor  \n",
        "\n",
        "12.   housing`\n",
        "             \n",
        " 1 : for free\n",
        " 2 : rent    \n",
        " 3 : own     \n",
        "\n",
        "tipo de vivienda que tiene.\n",
        "\n",
        "13.   number_credits`\n",
        "         \n",
        " 1 : 1   \n",
        " 2 : 2-3\n",
        " 3 : 4-5\n",
        " 4 : >= 6\n",
        "\n",
        " numero de creditos\n",
        "\n",
        "14.   job`\n",
        "                                               \n",
        " 1 : unemployed/unskilled - non-resident       \n",
        " 2 : unskilled - resident                      \n",
        " 3 : skilled employee/official                 \n",
        " 4 : manager/self-empl./highly qualif. employee\n",
        "\n",
        " tipo de empleo del deudor.\n",
        "\n",
        "15.   people_liable`\n",
        "              \n",
        " 1 : 3 or more\n",
        " 2 : 0 to 2   \n",
        "\n",
        "dependientes del deudor.\n",
        "\n",
        "16.  telephone`\n",
        "                              \n",
        " 1 : no                       \n",
        " 2 : yes (under customer name)\n",
        "\n",
        " linea de telefono a nombre del deudor\n",
        "\n",
        "17.  foreign_worker`\n",
        "        \n",
        " 1 : yes\n",
        " 2 : no\n",
        "\n",
        " trabajador extranjero.\n",
        "\n",
        "18.   credit_risk`\n",
        "         \n",
        " 0 : bad\n",
        " 1 : good\n",
        "\n",
        " riesgo de credito\n",
        "\n",
        "\n",
        "### **Variables Numéricas:**\n",
        "\n",
        "1.   duration`\n",
        "\n",
        " duracion del credito en meses\n",
        "\n",
        "2.   amount\n",
        "\n",
        "monto del credito\n",
        "\n",
        "3.  age\n",
        "\n",
        "edad del solicitante\n",
        "\n",
        "\n",
        "### ++++++++ Termina la sección de agregar texto. +++++++++++"
      ],
      "metadata": {
        "id": "aRkZvfhVeLxU"
      }
    },
    {
      "cell_type": "markdown",
      "source": [
        "### Análisis descriptivo de las variables usando el conjunto de entrenamiento.\n",
        "\n"
      ],
      "metadata": {
        "id": "urAFNUyMjodn"
      }
    },
    {
      "cell_type": "code",
      "source": [
        "df.isnull().sum()"
      ],
      "metadata": {
        "id": "U4fqjoUqya4e"
      },
      "execution_count": null,
      "outputs": []
    },
    {
      "cell_type": "code",
      "source": [
        "\n",
        " # Puedes incluir a continuación todas las celdas de código que requieras....\n",
        "\n",
        "fig, axes = plt.subplots(6,3, figsize=(15,20))\n",
        "plt.subplots_adjust(wspace=0.3,hspace=0.5)\n",
        "axes = axes.ravel()\n",
        "for col, ax in zip(Xtrain, axes):\n",
        "  sns.histplot(x=Xtrain[col], ax=ax,bins=10, kde=True) # ---> Seaborn\n",
        "  df_mean=Xtrain[col].mean()\n",
        "  df_median= Xtrain[col].median()\n",
        "  ax.set(title=f'{col}',xlabel=None)\n",
        "\n"
      ],
      "metadata": {
        "id": "FZNjwKewd9fK"
      },
      "execution_count": null,
      "outputs": []
    },
    {
      "cell_type": "code",
      "source": [
        "corr = pd.concat([Xtrain, ytrain], axis=1)\n",
        "correlation_matrix = corr.corr(method='pearson')\n",
        "plt.figure(figsize=(14,14))\n",
        "sns.heatmap(correlation_matrix, annot=True, fmt=\".2f\", linewidths=.5)"
      ],
      "metadata": {
        "id": "P92jVFPDioVp"
      },
      "execution_count": null,
      "outputs": []
    },
    {
      "cell_type": "code",
      "source": [
        "df_transformed = pd.DataFrame()\n",
        "numerical = ['age','amount','duration']\n",
        "Xtrain_numerical = corr[numerical]\n",
        "for col in Xtrain_numerical.columns:\n",
        "    # Transformación Box-Cox\n",
        "    if (Xtrain_numerical[col] <= 0).any():  # Verificar que no haya ceros o valores negativos\n",
        "        transformed_data_boxcox = boxcox(Xtrain_numerical[col] + 1)\n",
        "        df_transformed[f'{col}_BoxCox'] = transformed_data_boxcox\n",
        "    else:\n",
        "        df_transformed[f'{col}_BoxCox'] = np.nan\n",
        "\n",
        "    # Transformación Raíz Cuadrada\n",
        "    df_transformed[f'{col}_RaizCuadrada'] = np.sqrt(Xtrain_numerical[col])\n",
        "\n",
        "    # Transformación Potencia\n",
        "    df_transformed[f'{col}_Potencia'] = np.power(Xtrain_numerical[col], 2)\n",
        "\n",
        "    # Transformación Logaritmo\n",
        "    df_transformed[f'{col}_Logaritmo'] = np.log(Xtrain_numerical[col] + 1)\n",
        "\n",
        "# Graficar histogramas de cada transformación\n",
        "num_plots = len(df_transformed.columns)\n",
        "num_cols = 4  # Cambiar a 3 columnas para acomodar los 5 subgráficos\n",
        "num_rows = (num_plots + num_cols - 1) // num_cols  # Calcular el número de filas necesario\n",
        "plt.figure(figsize=(40, 40))\n",
        "plt.subplots_adjust(wspace=0.5,hspace=0.3)\n",
        "for i, col in enumerate(df_transformed.columns):\n",
        "    plt.subplot(num_rows, num_cols, i+1)\n",
        "    sns.histplot(df_transformed[col], kde=True)\n",
        "    plt.title(f'Histograma de {col}')\n",
        "plt.show()"
      ],
      "metadata": {
        "id": "UrcUsXmetUcb"
      },
      "execution_count": null,
      "outputs": []
    },
    {
      "cell_type": "markdown",
      "source": [
        "\n",
        "\n",
        "\n",
        "\n",
        "*   Para las variables numericas decidí aplicar la transformacion de logaritmo ya que en esa tengo una mejor distribucion de los datos.\n",
        "*   para las categoricas usare una transformacion one hot encoding para obtener valores ideales para procesar en el modelo.\n",
        "\n",
        "\n",
        "\n"
      ],
      "metadata": {
        "id": "_-W1Y9GxiW4Q"
      }
    },
    {
      "cell_type": "markdown",
      "source": [
        "# **Parte II: Modelos de aprendizaje automático con los conjuntos originales de la partición realizada.**"
      ],
      "metadata": {
        "id": "B9i2CrLJs-1m"
      }
    },
    {
      "cell_type": "code",
      "source": [
        "# Transformaciones que se aplicarán a las variables numéricas usando la clase Pipeline de sklearn:\n",
        "\n",
        "\n",
        "# Variables numéricas:\n",
        "num_pipe = Pipeline(steps = [           ( 'log', FunctionTransformer(np.log)),\n",
        "                                        ('scaler', StandardScaler())\n",
        "                                        ])\n",
        "\n",
        "num_pipe_nombres = numerical\n",
        "\n",
        "\n",
        "# Variables categóricas:\n",
        "cat_pipe = Pipeline(steps=[\n",
        "    ('onehot', OneHotEncoder(handle_unknown='ignore'))\n",
        "                                       ])\n",
        "\n",
        "cat = df.columns.drop(numerical)\n",
        "cat_pipe_nombres = cat.drop('credit_risk')\n",
        "\n",
        "\n",
        "# Conjuntemos las transformaciones de todo tipo de variable y en dado caso\n",
        "# deja inaletardas aquellas que hayas decidido no transformar:\n",
        "\n",
        "columnasTransformer = ColumnTransformer(\n",
        "    transformers=[\n",
        "        ('cat', cat_pipe, cat_pipe_nombres),\n",
        "        ('num', num_pipe, num_pipe_nombres)\n",
        "    ],\n",
        "    remainder='passthrough')\n",
        "\n",
        "\n",
        "\n"
      ],
      "metadata": {
        "id": "NvNYiIp9weCm"
      },
      "execution_count": null,
      "outputs": []
    },
    {
      "cell_type": "code",
      "source": [
        "# Como se va a utilizar Validación-Cruzada, concatena los conjuntos de entrenamiento y validación\n",
        "# en uno nuevo aumentado que llamaremos trainval para utilizar como entrenamiento:\n",
        "\n",
        "\n",
        "Xtrainval = pd.concat([Xtrain, Xval], axis=0)\n",
        "ytrainval = pd.concat([ytrain, yval], axis=0)\n",
        "\n",
        "\n",
        "\n",
        "print(Xtrainval.shape, ytrainval.shape)"
      ],
      "metadata": {
        "id": "d3lqBiH5wd1e",
        "colab": {
          "base_uri": "https://localhost:8080/"
        },
        "outputId": "c6cd9f98-2573-46b1-bfc2-2bf7c2ca299d"
      },
      "execution_count": null,
      "outputs": [
        {
          "output_type": "stream",
          "name": "stdout",
          "text": [
            "(850, 20) (850,)\n"
          ]
        }
      ]
    },
    {
      "cell_type": "code",
      "source": [
        "# Definimos a continuación la función que llamamos \"mis_modelos\" que incluye\n",
        "# todos los modelos que deseamos comparar en el ejercicio.\n",
        "# Por el momento todas tienen sus argumentos predeterminados, pero deberás\n",
        "# ajustarlos de manera que todos los modelos converjan durante el entrenamiento\n",
        "# y puedas comparar cuál o cuáles de ellos son los mejores modelos.\n",
        "from sklearn.linear_model import LogisticRegression\n",
        "from sklearn.neighbors import KNeighborsClassifier\n",
        "from sklearn.tree import DecisionTreeClassifier\n",
        "from sklearn.ensemble import RandomForestClassifier\n",
        "from xgboost import XGBClassifier\n",
        "from sklearn.neural_network import MLPClassifier\n",
        "from sklearn.svm import SVC\n",
        "from sklearn.model_selection import cross_validate, RepeatedStratifiedKFold\n",
        "def mis_modelos():\n",
        "  modelos, nombres = list(), list()\n",
        "\n",
        "\n",
        "\n",
        "\n",
        "  # Regresión Logística:\n",
        "  modelos.append(LogisticRegression(class_weight='balanced' ))\n",
        "  nombres.append('LR')\n",
        "\n",
        "  # k-Vecinos más Cercanos:\n",
        "  modelos.append(KNeighborsClassifier( n_neighbors=5))\n",
        "  nombres.append('kNN')\n",
        "\n",
        "  # Árbol de decisiones:\n",
        "  modelos.append(DecisionTreeClassifier(max_depth=5 ))\n",
        "  nombres.append('DTree')\n",
        "\n",
        "  # Bosque Aleatorio:\n",
        "  modelos.append(RandomForestClassifier( n_estimators=100, max_depth=5))\n",
        "  nombres.append('RF')\n",
        "\n",
        "  # XGBoosting:\n",
        "  modelos.append(XGBClassifier( learning_rate=0.1, n_estimators=100, max_depth=3))\n",
        "  nombres.append('XGBoost')\n",
        "\n",
        "  # Red neuronal de Perceptrón Multicapa:\n",
        "  modelos.append(MLPClassifier( hidden_layer_sizes=(100,), activation='relu', solver='adam', max_iter=2000 ))\n",
        "  nombres.append('MLP')\n",
        "\n",
        "  # Máquina de Vectores de Soporte:\n",
        "  modelos.append(SVC( C=1.0 ))\n",
        "  nombres.append('SVM')\n",
        "\n",
        "\n",
        "\n",
        "  return modelos, nombres\n",
        "\n",
        "\n",
        "\n",
        "\n",
        "\n",
        "\n",
        "# Entrenemos cada uno de los modelos y desplegamos la métricas de Train y Val.\n",
        "\n",
        "\n",
        "modelos, nombres = mis_modelos()\n",
        "resultados = list()\n",
        "\n",
        "for i in range(len(modelos)):\n",
        "\n",
        "  # Definimos nuestro pipeline con las transformaciones y los modelos:\n",
        "  pipeline = Pipeline(steps=[('ct',columnasTransformer),('m',modelos[i])])\n",
        "\n",
        "  # Aplicaremos validación-cruzada:\n",
        "  micv = RepeatedStratifiedKFold(n_splits=5, n_repeats=3)\n",
        "\n",
        "  # Definimos las métricas que desamos recuperar:\n",
        "  mismetricas = {'accuracy','precision','recall','f1','roc_auc'}\n",
        "\n",
        "  # Llevamos a cabo el entrenamiento:\n",
        "  scores = cross_validate(pipeline,\n",
        "                          Xtrainval,\n",
        "                          ytrainval,\n",
        "                          scoring=mismetricas,\n",
        "                          cv=micv,\n",
        "                          return_train_score=True,\n",
        "                          )\n",
        "\n",
        "  # Guardemos el resultado de cada modelopara análisis posteriores.\n",
        "  resultados.append(scores)\n",
        "\n",
        "  # Desplegamos los valores de las métricas para verificar si no hay\n",
        "  # subentrenamiento o sobreentrenamiento:\n",
        "  print('>> %s' % nombres[i])\n",
        "  for j,k in enumerate(list(scores.keys())):\n",
        "    if j>1:\n",
        "      print('\\t %s %.3f (%.3f)' % (k, np.mean(scores[k]),np.std(scores[k])))"
      ],
      "metadata": {
        "id": "0hdi7AAtwd5G",
        "colab": {
          "base_uri": "https://localhost:8080/"
        },
        "outputId": "2126e95c-95a6-4b1d-dfe5-7c743b96ae33"
      },
      "execution_count": null,
      "outputs": [
        {
          "output_type": "stream",
          "name": "stdout",
          "text": [
            ">> LR\n",
            "\t test_f1 0.584 (0.054)\n",
            "\t train_f1 0.655 (0.013)\n",
            "\t test_recall 0.702 (0.069)\n",
            "\t train_recall 0.783 (0.014)\n",
            "\t test_accuracy 0.708 (0.037)\n",
            "\t train_accuracy 0.760 (0.010)\n",
            "\t test_precision 0.500 (0.046)\n",
            "\t train_precision 0.564 (0.013)\n",
            "\t test_roc_auc 0.765 (0.046)\n",
            "\t train_roc_auc 0.839 (0.010)\n",
            ">> kNN\n",
            "\t test_f1 0.428 (0.065)\n",
            "\t train_f1 0.617 (0.027)\n",
            "\t test_recall 0.344 (0.067)\n",
            "\t train_recall 0.509 (0.030)\n",
            "\t test_accuracy 0.734 (0.031)\n",
            "\t train_accuracy 0.816 (0.011)\n",
            "\t test_precision 0.584 (0.096)\n",
            "\t train_precision 0.785 (0.030)\n",
            "\t test_roc_auc 0.703 (0.037)\n",
            "\t train_roc_auc 0.883 (0.011)\n",
            ">> DTree\n",
            "\t test_f1 0.287 (0.122)\n",
            "\t train_f1 0.523 (0.071)\n",
            "\t test_recall 0.218 (0.128)\n",
            "\t train_recall 0.393 (0.107)\n",
            "\t test_accuracy 0.711 (0.021)\n",
            "\t train_accuracy 0.798 (0.011)\n",
            "\t test_precision 0.500 (0.102)\n",
            "\t train_precision 0.848 (0.078)\n",
            "\t test_roc_auc 0.706 (0.026)\n",
            "\t train_roc_auc 0.846 (0.010)\n",
            ">> RF\n",
            "\t test_f1 0.215 (0.058)\n",
            "\t train_f1 0.434 (0.034)\n",
            "\t test_recall 0.125 (0.037)\n",
            "\t train_recall 0.278 (0.028)\n",
            "\t test_accuracy 0.736 (0.012)\n",
            "\t train_accuracy 0.789 (0.008)\n",
            "\t test_precision 0.808 (0.118)\n",
            "\t train_precision 0.998 (0.006)\n",
            "\t test_roc_auc 0.776 (0.026)\n",
            "\t train_roc_auc 0.924 (0.003)\n",
            ">> XGBoost\n",
            "\t test_f1 0.519 (0.053)\n",
            "\t train_f1 0.798 (0.014)\n",
            "\t test_recall 0.437 (0.054)\n",
            "\t train_recall 0.704 (0.021)\n",
            "\t test_accuracy 0.765 (0.022)\n",
            "\t train_accuracy 0.896 (0.006)\n",
            "\t test_precision 0.643 (0.055)\n",
            "\t train_precision 0.921 (0.011)\n",
            "\t test_roc_auc 0.780 (0.033)\n",
            "\t train_roc_auc 0.955 (0.004)\n",
            ">> MLP\n",
            "\t test_f1 0.519 (0.055)\n",
            "\t train_f1 1.000 (0.000)\n",
            "\t test_recall 0.481 (0.081)\n",
            "\t train_recall 1.000 (0.000)\n",
            "\t test_accuracy 0.743 (0.026)\n",
            "\t train_accuracy 1.000 (0.000)\n",
            "\t test_precision 0.575 (0.059)\n",
            "\t train_precision 1.000 (0.000)\n",
            "\t test_roc_auc 0.744 (0.038)\n",
            "\t train_roc_auc 1.000 (0.000)\n",
            ">> SVM\n",
            "\t test_f1 0.459 (0.055)\n",
            "\t train_f1 0.749 (0.023)\n",
            "\t test_recall 0.349 (0.058)\n",
            "\t train_recall 0.615 (0.033)\n",
            "\t test_accuracy 0.762 (0.022)\n",
            "\t train_accuracy 0.880 (0.009)\n",
            "\t test_precision 0.687 (0.080)\n",
            "\t train_precision 0.961 (0.015)\n",
            "\t test_roc_auc 0.779 (0.035)\n",
            "\t train_roc_auc 0.953 (0.004)\n"
          ]
        }
      ]
    },
    {
      "cell_type": "markdown",
      "source": [
        "\n",
        "\n",
        "a.   ¿Qué error se considera más costoso por parte del banco? ¿FP o FN?\n",
        "\n",
        "el FN ya que es mas costoso para el banco que el modelo saque un cliente bueno cuando en realidad es malo, esto supone mucho riesgo para el banco.  \n",
        "\n",
        "b.   ¿Cuál o cuál serían entonces las métricas a considerar como más importantes?\n",
        "\n",
        "recall ya que al mejorar estas nos indican que el modelo evita muy bien los falsos positivos y se maneja de forma aceptable los falsos negativos.\n",
        "\n",
        "c.   Investiga qué otras métricas se pudieran considerar, de la gran familia de métricas que existen.\n",
        "\n",
        " el puntaje fbeta nos ayuda a medir relaciones entre precission y recall que tambien seria muy util.\n",
        "\n",
        "\n"
      ],
      "metadata": {
        "id": "5MeXfRLyIOLa"
      }
    },
    {
      "cell_type": "code",
      "source": [
        "# Obtener un diagrama de caja y bigotes (boxplot) múltiple de todos los modelos,\n",
        "# utilizando los resultados obtenidos con la métrica que consideraste más importante\n",
        "# en el ejercicio anterior:\n",
        "\n",
        "\n",
        "def plot_recall_boxplot(resultados, nombres, model = None):\n",
        "    # Recuperamos los valores de recall de cada modelo\n",
        "    recall_values = []\n",
        "    for i in range(len(resultados)):\n",
        "        recall_values.append(resultados[i]['test_recall'])\n",
        "\n",
        "    # Creamos el boxplot\n",
        "    if (len(nombres) == len(recall_values)):\n",
        "        plt.boxplot(recall_values, labels=nombres)\n",
        "    elif (model != None):\n",
        "        plt.boxplot(recall_values, labels=[nombres[nombres.index(model)]])\n",
        "    else:\n",
        "        plt.boxplot(recall_values, labels=[model])\n",
        "    plt.xlabel('Modelos')\n",
        "    plt.ylabel('Recall')\n",
        "    plt.title('Boxplot de Recall por Modelo')\n",
        "    plt.show()\n",
        "\n",
        "plot_recall_boxplot(resultados, nombres)\n",
        "\n"
      ],
      "metadata": {
        "id": "DsV2wzymwdyV",
        "colab": {
          "base_uri": "https://localhost:8080/",
          "height": 472
        },
        "outputId": "3b45590f-4810-4584-ebf1-72fa6d0dbb18"
      },
      "execution_count": null,
      "outputs": [
        {
          "output_type": "display_data",
          "data": {
            "text/plain": [
              "<Figure size 640x480 with 1 Axes>"
            ],
            "image/png": "[encoded data removed]"
          },
          "metadata": {}
        }
      ]
    },
    {
      "cell_type": "markdown",
      "source": [
        "# **Parte III: Modelos con técnicas para clases no balanceadas.**"
      ],
      "metadata": {
        "id": "TPOqRS7pNCNH"
      }
    },
    {
      "cell_type": "markdown",
      "source": [
        "## **Ejercicio 11**"
      ],
      "metadata": {
        "id": "HowUdsf7MqIJ"
      }
    },
    {
      "cell_type": "code",
      "source": [
        "# Selecciona una técnica de sobremuestreo, submuestreo o sobremuestreo+submuestreo para\n",
        "# clases no balanceadas que consideres adecuada, en combinación con los tres mejores modelos\n",
        "# de la Parte II, para entrenar y desplegar todas las métricas que se desplegaron en la Parte II.\n",
        "\n",
        "from imblearn.combine import SMOTEENN\n",
        "smote_enn = SMOTEENN(random_state=42)\n",
        "Xtrainvalres, ytrainvalres = smote_enn.fit_resample(Xtrainval, ytrainval)\n",
        "\n",
        "modelos, nombres = mis_modelos()\n",
        "resultados = list()\n",
        "\n",
        "for i in range(len(modelos)):\n",
        "\n",
        "  # Definimos nuestro pipeline con las transformaciones y los modelos:\n",
        "  pipeline = Pipeline(steps=[('ct',columnasTransformer),('m',modelos[i])])\n",
        "\n",
        "  # Aplicaremos validación-cruzada:\n",
        "  micv = RepeatedStratifiedKFold(n_splits=5, n_repeats=3)\n",
        "\n",
        "  # Definimos las métricas que desamos recuperar:\n",
        "  mismetricas = {'accuracy','precision','recall','f1','roc_auc'}\n",
        "\n",
        "  # Llevamos a cabo el entrenamiento:\n",
        "  scores = cross_validate(pipeline,\n",
        "                          Xtrainvalres,\n",
        "                          ytrainvalres,\n",
        "                          scoring=mismetricas,\n",
        "                          cv=micv,\n",
        "                          return_train_score=True,\n",
        "                          )\n",
        "\n",
        "  # Guardemos el resultado de cada modelopara análisis posteriores.\n",
        "  resultados.append(scores)\n",
        "\n",
        "  # Desplegamos los valores de las métricas para verificar si no hay\n",
        "  # subentrenamiento o sobreentrenamiento:\n",
        "  print('>> %s' % nombres[i])\n",
        "  for j,k in enumerate(list(scores.keys())):\n",
        "    if j>1:\n",
        "      print('\\t %s %.3f (%.3f)' % (k, np.mean(scores[k]),np.std(scores[k])))\n",
        "\n",
        "\n"
      ],
      "metadata": {
        "id": "qPGAAAa-Mqr3",
        "colab": {
          "base_uri": "https://localhost:8080/"
        },
        "outputId": "11abbade-030e-4a21-e767-584738d2929a"
      },
      "execution_count": null,
      "outputs": [
        {
          "output_type": "stream",
          "name": "stdout",
          "text": [
            ">> LR\n",
            "\t test_f1 0.819 (0.042)\n",
            "\t train_f1 0.891 (0.015)\n",
            "\t test_recall 0.818 (0.053)\n",
            "\t train_recall 0.878 (0.015)\n",
            "\t test_accuracy 0.804 (0.046)\n",
            "\t train_accuracy 0.884 (0.016)\n",
            "\t test_precision 0.823 (0.051)\n",
            "\t train_precision 0.905 (0.017)\n",
            "\t test_roc_auc 0.896 (0.029)\n",
            "\t train_roc_auc 0.956 (0.005)\n",
            ">> kNN\n",
            "\t test_f1 0.858 (0.036)\n",
            "\t train_f1 0.917 (0.009)\n",
            "\t test_recall 0.864 (0.061)\n",
            "\t train_recall 0.931 (0.014)\n",
            "\t test_accuracy 0.845 (0.038)\n",
            "\t train_accuracy 0.909 (0.010)\n",
            "\t test_precision 0.856 (0.051)\n",
            "\t train_precision 0.904 (0.013)\n",
            "\t test_roc_auc 0.908 (0.041)\n",
            "\t train_roc_auc 0.962 (0.006)\n",
            ">> DTree\n",
            "\t test_f1 0.848 (0.038)\n",
            "\t train_f1 0.921 (0.014)\n",
            "\t test_recall 0.837 (0.050)\n",
            "\t train_recall 0.909 (0.030)\n",
            "\t test_accuracy 0.836 (0.044)\n",
            "\t train_accuracy 0.915 (0.015)\n",
            "\t test_precision 0.863 (0.064)\n",
            "\t train_precision 0.935 (0.034)\n",
            "\t test_roc_auc 0.880 (0.056)\n",
            "\t train_roc_auc 0.969 (0.013)\n",
            ">> RF\n",
            "\t test_f1 0.860 (0.041)\n",
            "\t train_f1 0.933 (0.009)\n",
            "\t test_recall 0.908 (0.042)\n",
            "\t train_recall 0.961 (0.008)\n",
            "\t test_accuracy 0.839 (0.050)\n",
            "\t train_accuracy 0.925 (0.011)\n",
            "\t test_precision 0.819 (0.054)\n",
            "\t train_precision 0.907 (0.013)\n",
            "\t test_roc_auc 0.935 (0.025)\n",
            "\t train_roc_auc 0.988 (0.003)\n",
            ">> XGBoost\n",
            "\t test_f1 0.917 (0.038)\n",
            "\t train_f1 0.989 (0.005)\n",
            "\t test_recall 0.910 (0.057)\n",
            "\t train_recall 0.982 (0.009)\n",
            "\t test_accuracy 0.911 (0.041)\n",
            "\t train_accuracy 0.988 (0.006)\n",
            "\t test_precision 0.927 (0.043)\n",
            "\t train_precision 0.996 (0.005)\n",
            "\t test_roc_auc 0.963 (0.021)\n",
            "\t train_roc_auc 0.999 (0.000)\n",
            ">> MLP\n",
            "\t test_f1 0.844 (0.025)\n",
            "\t train_f1 1.000 (0.000)\n",
            "\t test_recall 0.866 (0.042)\n",
            "\t train_recall 1.000 (0.000)\n",
            "\t test_accuracy 0.827 (0.029)\n",
            "\t train_accuracy 1.000 (0.000)\n",
            "\t test_precision 0.826 (0.036)\n",
            "\t train_precision 1.000 (0.000)\n",
            "\t test_roc_auc 0.910 (0.024)\n",
            "\t train_roc_auc 1.000 (0.000)\n",
            ">> SVM\n",
            "\t test_f1 0.857 (0.043)\n",
            "\t train_f1 0.963 (0.006)\n",
            "\t test_recall 0.881 (0.045)\n",
            "\t train_recall 0.964 (0.011)\n",
            "\t test_accuracy 0.840 (0.049)\n",
            "\t train_accuracy 0.960 (0.006)\n",
            "\t test_precision 0.836 (0.056)\n",
            "\t train_precision 0.962 (0.010)\n",
            "\t test_roc_auc 0.923 (0.035)\n",
            "\t train_roc_auc 0.993 (0.001)\n"
          ]
        }
      ]
    },
    {
      "cell_type": "code",
      "source": [
        "plot_recall_boxplot(resultados, nombres)"
      ],
      "metadata": {
        "colab": {
          "base_uri": "https://localhost:8080/",
          "height": 472
        },
        "id": "EQOhO8U9C5Rx",
        "outputId": "7e5da991-38ed-48ba-9ac1-2ffaa288bcec"
      },
      "execution_count": null,
      "outputs": [
        {
          "output_type": "display_data",
          "data": {
            "text/plain": [
              "<Figure size 640x480 with 1 Axes>"
            ],
            "image/png": "[encoded data removed]"
          },
          "metadata": {}
        }
      ]
    },
    {
      "cell_type": "markdown",
      "source": [
        "# **Parte IV: Mejor modelo**"
      ],
      "metadata": {
        "id": "hDV5EpEIRsy4"
      }
    },
    {
      "cell_type": "markdown",
      "source": [
        "\n",
        "\n",
        "El mejor modelo segun el parametro optimo para el ejercicio es XGboost ya que obtenemos un recall mas alto que en el resto de modelos\n",
        "\n"
      ],
      "metadata": {
        "id": "FBSVeSgfWSgn"
      }
    },
    {
      "cell_type": "code",
      "source": [
        "\n",
        "from sklearn.model_selection import GridSearchCV\n",
        "\n",
        "pipeline = Pipeline(steps=[('ct', columnasTransformer), ('m',XGBClassifier() )])\n",
        "\n",
        "    # Definir el espacio de búsqueda de hiperparámetros\n",
        "param_grid = {\n",
        "    'm__learning_rate': [0.01, 0.1, 0.2],\n",
        "    'm__n_estimators': [100, 200, 300],\n",
        "    'm__objective': ['binary:logistic']\n",
        "\n",
        "}  # Aquí define los parámetros específicos para cada modelo\n",
        "\n",
        "    # Aplicar GridSearchCV para buscar los mejores hiperparámetros\n",
        "grid_search = GridSearchCV(pipeline, param_grid, scoring='recall', cv=micv)\n",
        "grid_search.fit(Xtrainvalres, ytrainvalres)\n",
        "\n",
        "    # Obtener los resultados de validación cruzada\n",
        "best_recall_score = grid_search.best_score_\n",
        "best_params = grid_search.best_params_\n",
        "\n",
        "# Imprimir la mejor métrica de recall, accuracy, f1-score, precisión y los mejores hiperparámetros\n",
        "print(\"Mejor métrica de recall:\", best_recall_score)\n",
        "print(\"Mejores hiperparámetros:\", best_params)\n",
        "# *********** Aquí termina la sección de agregar código *************\n"
      ],
      "metadata": {
        "id": "vMsvBtyaRwiA",
        "colab": {
          "base_uri": "https://localhost:8080/"
        },
        "outputId": "d883e078-db54-4d6b-e739-707061b29b18"
      },
      "execution_count": null,
      "outputs": [
        {
          "output_type": "stream",
          "name": "stdout",
          "text": [
            "Mejor métrica de recall: 0.913706835799859\n",
            "Mejores hiperparámetros: {'m__learning_rate': 0.1, 'm__n_estimators': 300, 'm__objective': 'binary:logistic'}\n"
          ]
        }
      ]
    },
    {
      "cell_type": "code",
      "source": [
        "\n",
        "from sklearn.metrics import accuracy_score, precision_score, recall_score, f1_score\n",
        "import joblib\n",
        "Xtestres, ytestres = smote_enn.fit_resample(Xtest, ytest)\n",
        "best_pipeline = Pipeline(steps=[\n",
        "    ('ct', columnasTransformer),\n",
        "    ('m', XGBClassifier(\n",
        "      learning_rate=best_params['m__learning_rate'],\n",
        "        n_estimators=best_params['m__n_estimators'],\n",
        "        objective='binary:logistic'\n",
        "    ))\n",
        "])\n",
        "\n",
        "# Entrenar el pipeline con los datos de entrenamiento\n",
        "best_pipeline.fit(Xtrainvalres, ytrainvalres)\n",
        "\n",
        "# Predecir utilizando el conjunto de prueba\n",
        "y_pred = best_pipeline.predict(Xtestres)\n",
        "\n",
        "# Calcular las métricas en el conjunto de prueba\n",
        "accuracy = accuracy_score(ytestres, y_pred)\n",
        "precision = precision_score(ytestres, y_pred)\n",
        "recall = recall_score(ytestres, y_pred)\n",
        "f1 = f1_score(ytestres, y_pred)\n",
        "\n",
        "# Imprimir las métricas\n",
        "print(\"Accuracy:\", accuracy)\n",
        "print(\"Precision:\", precision)\n",
        "print(\"Recall:\", recall)\n",
        "print(\"F1 Score:\", f1)\n",
        "\n"
      ],
      "metadata": {
        "id": "ZRZUVESUXQhY",
        "colab": {
          "base_uri": "https://localhost:8080/"
        },
        "outputId": "09b828f4-f396-4f98-8c8b-f5c1ee12d4fe"
      },
      "execution_count": null,
      "outputs": [
        {
          "output_type": "stream",
          "name": "stdout",
          "text": [
            "Accuracy: 0.6666666666666666\n",
            "Precision: 0.7333333333333333\n",
            "Recall: 0.55\n",
            "F1 Score: 0.6285714285714286\n"
          ]
        }
      ]
    },
    {
      "cell_type": "code",
      "source": [
        "# b.\tObtener la matriz de confusión.\n",
        "\n",
        "from sklearn.metrics import confusion_matrix\n",
        "conf_matrix = confusion_matrix(ytestres, y_pred)\n",
        "\n",
        "# Imprime la matriz de confusión\n",
        "print(\"Matriz de Confusión:\")\n",
        "print(conf_matrix)\n"
      ],
      "metadata": {
        "id": "lBd-VuoAXZZX",
        "colab": {
          "base_uri": "https://localhost:8080/"
        },
        "outputId": "8872af83-0859-43b1-d2e1-b76c9ed4d85a"
      },
      "execution_count": null,
      "outputs": [
        {
          "output_type": "stream",
          "name": "stdout",
          "text": [
            "Matriz de Confusión:\n",
            "[[15  4]\n",
            " [ 9 11]]\n"
          ]
        }
      ]
    },
    {
      "cell_type": "code",
      "source": [
        "\n",
        "from sklearn.inspection import permutation_importance\n",
        "\n",
        "result = permutation_importance(best_pipeline, Xtestres, ytestres, scoring='f1_weighted', n_repeats=10, random_state=42)\n",
        "importance = result.importances_mean\n",
        "feature_names = Xtest.columns\n",
        "importance_df = pd.DataFrame({'Feature': feature_names, 'Importance': importance})\n",
        "importance_df = importance_df.sort_values(by='Importance', ascending=False)\n",
        "\n",
        "print(\"Los factores más importantes para la rotación de personal son:\")\n",
        "print(importance_df.head(10))"
      ],
      "metadata": {
        "id": "Ngslji43XsO_",
        "colab": {
          "base_uri": "https://localhost:8080/"
        },
        "outputId": "f9d85742-5d50-4e86-a1a8-e1bfc57a24d3"
      },
      "execution_count": null,
      "outputs": [
        {
          "output_type": "stream",
          "name": "stdout",
          "text": [
            "Los factores más importantes para la rotación de personal son:\n",
            "                Feature  Importance\n",
            "0                status    0.206080\n",
            "4                amount    0.069561\n",
            "1              duration    0.033357\n",
            "6   employment_duration    0.010256\n",
            "12                  age    0.000000\n",
            "18            telephone    0.000000\n",
            "17        people_liable    0.000000\n",
            "16                  job    0.000000\n",
            "15       number_credits    0.000000\n",
            "14              housing    0.000000\n"
          ]
        }
      ]
    },
    {
      "cell_type": "code",
      "source": [
        "plt.figure(figsize=(10, 6))\n",
        "plt.barh(importance_df['Feature'], importance_df['Importance'])\n",
        "plt.xlabel('Importancia')\n",
        "plt.ylabel('Factor')\n",
        "plt.title('Los 10 factores más importantes para la rotación de personal')\n",
        "plt.gca().invert_yaxis()\n",
        "plt.show()"
      ],
      "metadata": {
        "colab": {
          "base_uri": "https://localhost:8080/",
          "height": 490
        },
        "id": "dgQShnxwf0fc",
        "outputId": "ca9e4124-970c-4fb6-aaa2-ed9f59e34462"
      },
      "execution_count": null,
      "outputs": [
        {
          "output_type": "display_data",
          "data": {
            "text/plain": [
              "<Figure size 1000x600 with 1 Axes>"
            ],
            "image/png": "[encoded data removed]"
          },
          "metadata": {}
        }
      ]
    },
    {
      "cell_type": "markdown",
      "source": [
        "CONCLUSION\n",
        "\n",
        "Se encontro el mejor modelo con XGboost, con los hiperparametros ajustados logro mejorar en el entrenamiento sin embargo en la prueba no alcanzo un nivel tan alto como lo esperado dado el entrenamiento. Se corrigio y se logro al mejor rendimiento en esta manera. Dentro del articulo IEEE coincido en que al utilizar el sampling SMOTE mejoran mucho los valores de rendimiento del modelo.\n",
        "\n"
      ],
      "metadata": {
        "id": "R7s7iDgKYEn9"
      }
    }
  ]
}